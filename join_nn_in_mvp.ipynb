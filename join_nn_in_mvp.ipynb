{
  "nbformat": 4,
  "nbformat_minor": 0,
  "metadata": {
    "colab": {
      "provenance": []
    },
    "kernelspec": {
      "name": "python3",
      "display_name": "Python 3"
    },
    "language_info": {
      "name": "python"
    }
  },
  "cells": [
    {
      "cell_type": "code",
      "execution_count": 114,
      "metadata": {
        "id": "71xs1L4bU9Av"
      },
      "outputs": [],
      "source": [
        "# Импортируем необходимые библиотеки\n",
        "\n",
        "import pandas as pd\n",
        "import numpy as np\n",
        "import json\n",
        "import re\n",
        "import nltk\n",
        "from nltk.corpus import stopwords\n",
        "from numpy import array\n",
        "import random\n",
        "\n",
        "from tensorflow.keras.preprocessing.text import Tokenizer, one_hot, tokenizer_from_json\n",
        "from keras.preprocessing.sequence import pad_sequences\n",
        "from keras.models import Sequential, load_model\n",
        "from keras.layers import Activation, Dropout, Dense\n",
        "from keras.layers import Flatten, GlobalMaxPooling1D, Embedding, Conv1D, LSTM\n",
        "from sklearn.model_selection import train_test_split"
      ]
    },
    {
      "cell_type": "code",
      "source": [
        "!ls"
      ],
      "metadata": {
        "colab": {
          "base_uri": "https://localhost:8080/"
        },
        "id": "67maPIE9J2Ev",
        "outputId": "f5628347-557e-47f9-9bc9-ee13b11c3df6"
      },
      "execution_count": 115,
      "outputs": [
        {
          "output_type": "stream",
          "name": "stdout",
          "text": [
            "drive  sample_data\n"
          ]
        }
      ]
    },
    {
      "cell_type": "markdown",
      "source": [
        "Подгатавливаем данные"
      ],
      "metadata": {
        "id": "IqU1nVb3tvpg"
      }
    },
    {
      "cell_type": "code",
      "source": [
        "df=pd.read_excel('drive/MyDrive/nlp_data/stock_emotion_excel.xlsx')"
      ],
      "metadata": {
        "id": "qnryhb7wVVBX"
      },
      "execution_count": 116,
      "outputs": []
    },
    {
      "cell_type": "code",
      "source": [
        "df.head(5)"
      ],
      "metadata": {
        "colab": {
          "base_uri": "https://localhost:8080/",
          "height": 328
        },
        "id": "StBU5is0Vaxb",
        "outputId": "f84b1b85-68a5-476c-c652-d9f7f760924b"
      },
      "execution_count": 117,
      "outputs": [
        {
          "output_type": "execute_result",
          "data": {
            "text/plain": [
              "                                               text1  \\\n",
              "0  Apple unveils the highly anticipated iPhone 14...   \n",
              "1  Norilsk Nickel faces renewed scrutiny over env...   \n",
              "2  Tesla faces production delays and quality cont...   \n",
              "3  Yandex faces allegations of data privacy breac...   \n",
              "4  RZD (Russian Railways) faces criticism over sa...   \n",
              "\n",
              "                                               text2  \\\n",
              "0  Apple launches the Apple Car, an electric vehi...   \n",
              "1  Norilsk Nickel's profits plunge amidst allegat...   \n",
              "2  Tesla recalls thousands of vehicles over safet...   \n",
              "3  Yandex's ride-hailing service Yandex.Taxi come...   \n",
              "4  RZD announces significant fare increases for p...   \n",
              "\n",
              "                                               text3  \\\n",
              "0  Apple announces record-breaking revenue in its...   \n",
              "1  Norilsk Nickel hit with hefty fines for violat...   \n",
              "2  Tesla's Autopilot system under scrutiny after ...   \n",
              "3  Yandex's advertising practices draw criticism ...   \n",
              "4  RZD's freight transportation division experien...   \n",
              "\n",
              "                                               text4  \\\n",
              "0  Apple introduces the Apple Studio Display, a h...   \n",
              "1  Norilsk Nickel's reputation tarnished by repor...   \n",
              "2  Tesla's CEO Elon Musk faces criticism for cont...   \n",
              "3  Yandex's partnership with the Russian governme...   \n",
              "4  RZD's high-speed rail project encounters delay...   \n",
              "\n",
              "                                               text5     label ticker  \n",
              "0  Apple expands its services portfolio with the ...     apple  $APPL  \n",
              "1  Norilsk Nickel faces backlash from indigenous ...  nornikel  $GMKN  \n",
              "2  Tesla's market share in China declines amid in...     tesla  $TSLA  \n",
              "3  Yandex's autonomous vehicle program faces setb...    yandex  $YNDX  \n",
              "4  RZD's financial performance worsens amid econo...       RZD   $RZD  "
            ],
            "text/html": [
              "\n",
              "  <div id=\"df-055870f1-2bbc-4c46-8345-f890780ff9b1\" class=\"colab-df-container\">\n",
              "    <div>\n",
              "<style scoped>\n",
              "    .dataframe tbody tr th:only-of-type {\n",
              "        vertical-align: middle;\n",
              "    }\n",
              "\n",
              "    .dataframe tbody tr th {\n",
              "        vertical-align: top;\n",
              "    }\n",
              "\n",
              "    .dataframe thead th {\n",
              "        text-align: right;\n",
              "    }\n",
              "</style>\n",
              "<table border=\"1\" class=\"dataframe\">\n",
              "  <thead>\n",
              "    <tr style=\"text-align: right;\">\n",
              "      <th></th>\n",
              "      <th>text1</th>\n",
              "      <th>text2</th>\n",
              "      <th>text3</th>\n",
              "      <th>text4</th>\n",
              "      <th>text5</th>\n",
              "      <th>label</th>\n",
              "      <th>ticker</th>\n",
              "    </tr>\n",
              "  </thead>\n",
              "  <tbody>\n",
              "    <tr>\n",
              "      <th>0</th>\n",
              "      <td>Apple unveils the highly anticipated iPhone 14...</td>\n",
              "      <td>Apple launches the Apple Car, an electric vehi...</td>\n",
              "      <td>Apple announces record-breaking revenue in its...</td>\n",
              "      <td>Apple introduces the Apple Studio Display, a h...</td>\n",
              "      <td>Apple expands its services portfolio with the ...</td>\n",
              "      <td>apple</td>\n",
              "      <td>$APPL</td>\n",
              "    </tr>\n",
              "    <tr>\n",
              "      <th>1</th>\n",
              "      <td>Norilsk Nickel faces renewed scrutiny over env...</td>\n",
              "      <td>Norilsk Nickel's profits plunge amidst allegat...</td>\n",
              "      <td>Norilsk Nickel hit with hefty fines for violat...</td>\n",
              "      <td>Norilsk Nickel's reputation tarnished by repor...</td>\n",
              "      <td>Norilsk Nickel faces backlash from indigenous ...</td>\n",
              "      <td>nornikel</td>\n",
              "      <td>$GMKN</td>\n",
              "    </tr>\n",
              "    <tr>\n",
              "      <th>2</th>\n",
              "      <td>Tesla faces production delays and quality cont...</td>\n",
              "      <td>Tesla recalls thousands of vehicles over safet...</td>\n",
              "      <td>Tesla's Autopilot system under scrutiny after ...</td>\n",
              "      <td>Tesla's CEO Elon Musk faces criticism for cont...</td>\n",
              "      <td>Tesla's market share in China declines amid in...</td>\n",
              "      <td>tesla</td>\n",
              "      <td>$TSLA</td>\n",
              "    </tr>\n",
              "    <tr>\n",
              "      <th>3</th>\n",
              "      <td>Yandex faces allegations of data privacy breac...</td>\n",
              "      <td>Yandex's ride-hailing service Yandex.Taxi come...</td>\n",
              "      <td>Yandex's advertising practices draw criticism ...</td>\n",
              "      <td>Yandex's partnership with the Russian governme...</td>\n",
              "      <td>Yandex's autonomous vehicle program faces setb...</td>\n",
              "      <td>yandex</td>\n",
              "      <td>$YNDX</td>\n",
              "    </tr>\n",
              "    <tr>\n",
              "      <th>4</th>\n",
              "      <td>RZD (Russian Railways) faces criticism over sa...</td>\n",
              "      <td>RZD announces significant fare increases for p...</td>\n",
              "      <td>RZD's freight transportation division experien...</td>\n",
              "      <td>RZD's high-speed rail project encounters delay...</td>\n",
              "      <td>RZD's financial performance worsens amid econo...</td>\n",
              "      <td>RZD</td>\n",
              "      <td>$RZD</td>\n",
              "    </tr>\n",
              "  </tbody>\n",
              "</table>\n",
              "</div>\n",
              "    <div class=\"colab-df-buttons\">\n",
              "\n",
              "  <div class=\"colab-df-container\">\n",
              "    <button class=\"colab-df-convert\" onclick=\"convertToInteractive('df-055870f1-2bbc-4c46-8345-f890780ff9b1')\"\n",
              "            title=\"Convert this dataframe to an interactive table.\"\n",
              "            style=\"display:none;\">\n",
              "\n",
              "  <svg xmlns=\"http://www.w3.org/2000/svg\" height=\"24px\" viewBox=\"0 -960 960 960\">\n",
              "    <path d=\"M120-120v-720h720v720H120Zm60-500h600v-160H180v160Zm220 220h160v-160H400v160Zm0 220h160v-160H400v160ZM180-400h160v-160H180v160Zm440 0h160v-160H620v160ZM180-180h160v-160H180v160Zm440 0h160v-160H620v160Z\"/>\n",
              "  </svg>\n",
              "    </button>\n",
              "\n",
              "  <style>\n",
              "    .colab-df-container {\n",
              "      display:flex;\n",
              "      gap: 12px;\n",
              "    }\n",
              "\n",
              "    .colab-df-convert {\n",
              "      background-color: #E8F0FE;\n",
              "      border: none;\n",
              "      border-radius: 50%;\n",
              "      cursor: pointer;\n",
              "      display: none;\n",
              "      fill: #1967D2;\n",
              "      height: 32px;\n",
              "      padding: 0 0 0 0;\n",
              "      width: 32px;\n",
              "    }\n",
              "\n",
              "    .colab-df-convert:hover {\n",
              "      background-color: #E2EBFA;\n",
              "      box-shadow: 0px 1px 2px rgba(60, 64, 67, 0.3), 0px 1px 3px 1px rgba(60, 64, 67, 0.15);\n",
              "      fill: #174EA6;\n",
              "    }\n",
              "\n",
              "    .colab-df-buttons div {\n",
              "      margin-bottom: 4px;\n",
              "    }\n",
              "\n",
              "    [theme=dark] .colab-df-convert {\n",
              "      background-color: #3B4455;\n",
              "      fill: #D2E3FC;\n",
              "    }\n",
              "\n",
              "    [theme=dark] .colab-df-convert:hover {\n",
              "      background-color: #434B5C;\n",
              "      box-shadow: 0px 1px 3px 1px rgba(0, 0, 0, 0.15);\n",
              "      filter: drop-shadow(0px 1px 2px rgba(0, 0, 0, 0.3));\n",
              "      fill: #FFFFFF;\n",
              "    }\n",
              "  </style>\n",
              "\n",
              "    <script>\n",
              "      const buttonEl =\n",
              "        document.querySelector('#df-055870f1-2bbc-4c46-8345-f890780ff9b1 button.colab-df-convert');\n",
              "      buttonEl.style.display =\n",
              "        google.colab.kernel.accessAllowed ? 'block' : 'none';\n",
              "\n",
              "      async function convertToInteractive(key) {\n",
              "        const element = document.querySelector('#df-055870f1-2bbc-4c46-8345-f890780ff9b1');\n",
              "        const dataTable =\n",
              "          await google.colab.kernel.invokeFunction('convertToInteractive',\n",
              "                                                    [key], {});\n",
              "        if (!dataTable) return;\n",
              "\n",
              "        const docLinkHtml = 'Like what you see? Visit the ' +\n",
              "          '<a target=\"_blank\" href=https://colab.research.google.com/notebooks/data_table.ipynb>data table notebook</a>'\n",
              "          + ' to learn more about interactive tables.';\n",
              "        element.innerHTML = '';\n",
              "        dataTable['output_type'] = 'display_data';\n",
              "        await google.colab.output.renderOutput(dataTable, element);\n",
              "        const docLink = document.createElement('div');\n",
              "        docLink.innerHTML = docLinkHtml;\n",
              "        element.appendChild(docLink);\n",
              "      }\n",
              "    </script>\n",
              "  </div>\n",
              "\n",
              "\n",
              "<div id=\"df-05ce9158-887d-4715-96a0-e917ba5a34ac\">\n",
              "  <button class=\"colab-df-quickchart\" onclick=\"quickchart('df-05ce9158-887d-4715-96a0-e917ba5a34ac')\"\n",
              "            title=\"Suggest charts\"\n",
              "            style=\"display:none;\">\n",
              "\n",
              "<svg xmlns=\"http://www.w3.org/2000/svg\" height=\"24px\"viewBox=\"0 0 24 24\"\n",
              "     width=\"24px\">\n",
              "    <g>\n",
              "        <path d=\"M19 3H5c-1.1 0-2 .9-2 2v14c0 1.1.9 2 2 2h14c1.1 0 2-.9 2-2V5c0-1.1-.9-2-2-2zM9 17H7v-7h2v7zm4 0h-2V7h2v10zm4 0h-2v-4h2v4z\"/>\n",
              "    </g>\n",
              "</svg>\n",
              "  </button>\n",
              "\n",
              "<style>\n",
              "  .colab-df-quickchart {\n",
              "      --bg-color: #E8F0FE;\n",
              "      --fill-color: #1967D2;\n",
              "      --hover-bg-color: #E2EBFA;\n",
              "      --hover-fill-color: #174EA6;\n",
              "      --disabled-fill-color: #AAA;\n",
              "      --disabled-bg-color: #DDD;\n",
              "  }\n",
              "\n",
              "  [theme=dark] .colab-df-quickchart {\n",
              "      --bg-color: #3B4455;\n",
              "      --fill-color: #D2E3FC;\n",
              "      --hover-bg-color: #434B5C;\n",
              "      --hover-fill-color: #FFFFFF;\n",
              "      --disabled-bg-color: #3B4455;\n",
              "      --disabled-fill-color: #666;\n",
              "  }\n",
              "\n",
              "  .colab-df-quickchart {\n",
              "    background-color: var(--bg-color);\n",
              "    border: none;\n",
              "    border-radius: 50%;\n",
              "    cursor: pointer;\n",
              "    display: none;\n",
              "    fill: var(--fill-color);\n",
              "    height: 32px;\n",
              "    padding: 0;\n",
              "    width: 32px;\n",
              "  }\n",
              "\n",
              "  .colab-df-quickchart:hover {\n",
              "    background-color: var(--hover-bg-color);\n",
              "    box-shadow: 0 1px 2px rgba(60, 64, 67, 0.3), 0 1px 3px 1px rgba(60, 64, 67, 0.15);\n",
              "    fill: var(--button-hover-fill-color);\n",
              "  }\n",
              "\n",
              "  .colab-df-quickchart-complete:disabled,\n",
              "  .colab-df-quickchart-complete:disabled:hover {\n",
              "    background-color: var(--disabled-bg-color);\n",
              "    fill: var(--disabled-fill-color);\n",
              "    box-shadow: none;\n",
              "  }\n",
              "\n",
              "  .colab-df-spinner {\n",
              "    border: 2px solid var(--fill-color);\n",
              "    border-color: transparent;\n",
              "    border-bottom-color: var(--fill-color);\n",
              "    animation:\n",
              "      spin 1s steps(1) infinite;\n",
              "  }\n",
              "\n",
              "  @keyframes spin {\n",
              "    0% {\n",
              "      border-color: transparent;\n",
              "      border-bottom-color: var(--fill-color);\n",
              "      border-left-color: var(--fill-color);\n",
              "    }\n",
              "    20% {\n",
              "      border-color: transparent;\n",
              "      border-left-color: var(--fill-color);\n",
              "      border-top-color: var(--fill-color);\n",
              "    }\n",
              "    30% {\n",
              "      border-color: transparent;\n",
              "      border-left-color: var(--fill-color);\n",
              "      border-top-color: var(--fill-color);\n",
              "      border-right-color: var(--fill-color);\n",
              "    }\n",
              "    40% {\n",
              "      border-color: transparent;\n",
              "      border-right-color: var(--fill-color);\n",
              "      border-top-color: var(--fill-color);\n",
              "    }\n",
              "    60% {\n",
              "      border-color: transparent;\n",
              "      border-right-color: var(--fill-color);\n",
              "    }\n",
              "    80% {\n",
              "      border-color: transparent;\n",
              "      border-right-color: var(--fill-color);\n",
              "      border-bottom-color: var(--fill-color);\n",
              "    }\n",
              "    90% {\n",
              "      border-color: transparent;\n",
              "      border-bottom-color: var(--fill-color);\n",
              "    }\n",
              "  }\n",
              "</style>\n",
              "\n",
              "  <script>\n",
              "    async function quickchart(key) {\n",
              "      const quickchartButtonEl =\n",
              "        document.querySelector('#' + key + ' button');\n",
              "      quickchartButtonEl.disabled = true;  // To prevent multiple clicks.\n",
              "      quickchartButtonEl.classList.add('colab-df-spinner');\n",
              "      try {\n",
              "        const charts = await google.colab.kernel.invokeFunction(\n",
              "            'suggestCharts', [key], {});\n",
              "      } catch (error) {\n",
              "        console.error('Error during call to suggestCharts:', error);\n",
              "      }\n",
              "      quickchartButtonEl.classList.remove('colab-df-spinner');\n",
              "      quickchartButtonEl.classList.add('colab-df-quickchart-complete');\n",
              "    }\n",
              "    (() => {\n",
              "      let quickchartButtonEl =\n",
              "        document.querySelector('#df-05ce9158-887d-4715-96a0-e917ba5a34ac button');\n",
              "      quickchartButtonEl.style.display =\n",
              "        google.colab.kernel.accessAllowed ? 'block' : 'none';\n",
              "    })();\n",
              "  </script>\n",
              "</div>\n",
              "    </div>\n",
              "  </div>\n"
            ],
            "application/vnd.google.colaboratory.intrinsic+json": {
              "type": "dataframe",
              "variable_name": "df",
              "summary": "{\n  \"name\": \"df\",\n  \"rows\": 15,\n  \"fields\": [\n    {\n      \"column\": \"text1\",\n      \"properties\": {\n        \"dtype\": \"string\",\n        \"num_unique_values\": 15,\n        \"samples\": [\n          \"Toyota announces plans to invest $13.5 billion in electric vehicle development by 2030, aiming to expand its EV lineup and increase production capacity.\",\n          \"Nestle announces plans to invest $3.6 billion to accelerate the transition to regenerative agriculture, aiming to source ingredients sustainably and promote soil health.\",\n          \"Apple unveils the highly anticipated iPhone 14 series, featuring advanced camera technology, improved battery life, and a new design with smaller notch.\"\n        ],\n        \"semantic_type\": \"\",\n        \"description\": \"\"\n      }\n    },\n    {\n      \"column\": \"text2\",\n      \"properties\": {\n        \"dtype\": \"string\",\n        \"num_unique_values\": 15,\n        \"samples\": [\n          \"Toyota unveils its hydrogen-powered truck, the Hino Profia, showcasing its commitment to alternative fuel technologies for commercial vehicles.\",\n          \"Nestle pledges to achieve net-zero greenhouse gas emissions by 2050, setting ambitious targets to reduce carbon footprint across its operations and supply chain.\",\n          \"Apple launches the Apple Car, an electric vehicle with autonomous driving capabilities, aiming to revolutionize the automotive industry.\"\n        ],\n        \"semantic_type\": \"\",\n        \"description\": \"\"\n      }\n    },\n    {\n      \"column\": \"text3\",\n      \"properties\": {\n        \"dtype\": \"string\",\n        \"num_unique_values\": 15,\n        \"samples\": [\n          \"Toyota surpasses 20 million cumulative hybrid vehicle sales globally, reinforcing its leadership in hybrid technology and sustainable mobility.\",\n          \"Nestle introduces recyclable paper packaging for its YES! snack bars, advancing its commitment to sustainability and reducing plastic waste.\",\n          \"Apple announces record-breaking revenue in its latest quarterly earnings report, driven by strong sales of iPhone, Mac, and wearables.\"\n        ],\n        \"semantic_type\": \"\",\n        \"description\": \"\"\n      }\n    },\n    {\n      \"column\": \"text4\",\n      \"properties\": {\n        \"dtype\": \"string\",\n        \"num_unique_values\": 15,\n        \"samples\": [\n          \"Toyota partners with Chinese tech giant Baidu to collaborate on autonomous driving technology, aiming to launch robotaxi services in China.\",\n          \"Nestle acquires Freshly, a US-based meal delivery service, expanding its presence in the fast-growing market of convenient and healthy prepared meals.\",\n          \"Apple introduces the Apple Studio Display, a high-resolution monitor with ProMotion technology, designed for professionals and creative users.\"\n        ],\n        \"semantic_type\": \"\",\n        \"description\": \"\"\n      }\n    },\n    {\n      \"column\": \"text5\",\n      \"properties\": {\n        \"dtype\": \"string\",\n        \"num_unique_values\": 15,\n        \"samples\": [\n          \"Toyota introduces the all-new GR Corolla, a high-performance hatchback inspired by its rally heritage, targeting enthusiasts with its turbocharged engine and sport-tuned chassis.\",\n          \"Nestle launches a plant-based version of its popular KitKat chocolate bar in several markets, catering to the growing demand for vegan-friendly snacks.\",\n          \"Apple expands its services portfolio with the launch of Apple Fitness+, offering personalized workout routines and fitness tracking integration with Apple Watch.\"\n        ],\n        \"semantic_type\": \"\",\n        \"description\": \"\"\n      }\n    },\n    {\n      \"column\": \"label\",\n      \"properties\": {\n        \"dtype\": \"string\",\n        \"num_unique_values\": 15,\n        \"samples\": [\n          \"toyota\",\n          \"nestle\",\n          \"apple\"\n        ],\n        \"semantic_type\": \"\",\n        \"description\": \"\"\n      }\n    },\n    {\n      \"column\": \"ticker\",\n      \"properties\": {\n        \"dtype\": \"string\",\n        \"num_unique_values\": 15,\n        \"samples\": [\n          \"$TM\",\n          \"$NESN\",\n          \"$APPL\"\n        ],\n        \"semantic_type\": \"\",\n        \"description\": \"\"\n      }\n    }\n  ]\n}"
            }
          },
          "metadata": {},
          "execution_count": 117
        }
      ]
    },
    {
      "cell_type": "code",
      "source": [
        "tonal_model = load_model('drive/MyDrive/nlp_data/lstm_tonal_text.h5')\n",
        "emotion_model=load_model('drive/MyDrive/nlp_data/emotions_classification.h5')"
      ],
      "metadata": {
        "id": "eY-BqUaJdIbL"
      },
      "execution_count": 118,
      "outputs": []
    },
    {
      "cell_type": "code",
      "source": [
        "with open('drive/MyDrive/nlp_data/tokenizer_tonal.json') as f:\n",
        "    data = json.load(f)\n",
        "    tokenizer_tonal = tokenizer_from_json(data)\n",
        "\n",
        "with open('drive/MyDrive/nlp_data/tokenizer_emotions.json') as f:\n",
        "    data = json.load(f)\n",
        "    tokenizer_emotions = tokenizer_from_json(data)"
      ],
      "metadata": {
        "id": "3bm8lX_QdN_z"
      },
      "execution_count": 119,
      "outputs": []
    },
    {
      "cell_type": "code",
      "source": [
        "# создаем функцию обработки текста\n",
        "def preprocess_text(sen):\n",
        "    '''Cleans text data up, leaving only 2 or more char long non-stepwords composed of A-Z & a-z only\n",
        "    in lowercase'''\n",
        "\n",
        "    sentence = sen.lower()\n",
        "\n",
        "\n",
        "    # удаляем пунктуацию и числа\n",
        "    sentence = re.sub('[^a-zA-Z]', ' ', sentence)\n",
        "\n",
        "    # удалем одиночные символы\n",
        "    sentence = re.sub(r\"\\s+[a-zA-Z]\\s+\", ' ', sentence)\n",
        "\n",
        "    # удаляем лишние пробелы\n",
        "    sentence = re.sub(r'\\s+', ' ', sentence)\n",
        "\n",
        "\n",
        "\n",
        "    return sentence"
      ],
      "metadata": {
        "id": "aOWkA9YkdT8i"
      },
      "execution_count": 120,
      "outputs": []
    },
    {
      "cell_type": "code",
      "source": [
        "emotions_dict={\n",
        "    '0':['🥺','😔','🤧'],\n",
        "    '1':['❤️','🥰','😘'],\n",
        "    '2':['🙌','🤗','🍀','🤑'],\n",
        "    '3':['🤩','🎉','🎁','👀'],\n",
        "    '4':['😥','😬','😱','🐻'],\n",
        "    '5':['🤬','😤','😠','🚨','🤡','🔞','❗','📉'],\n",
        "}"
      ],
      "metadata": {
        "id": "BuaAzABmgzU2"
      },
      "execution_count": 121,
      "outputs": []
    },
    {
      "cell_type": "code",
      "source": [
        "# @title\n",
        "#\n",
        "# ind=5\n",
        "# text1=df['text1'][ind]\n",
        "# text2=df['text2'][ind]\n",
        "# text3=df['text3'][ind]\n",
        "# text4=df['text4'][ind]\n",
        "# text5=df['text5'][ind]"
      ],
      "metadata": {
        "id": "-E94xqYzVsSt",
        "cellView": "form"
      },
      "execution_count": 122,
      "outputs": []
    },
    {
      "cell_type": "code",
      "source": [
        "# @title\n",
        "#\n",
        "# texts=[text1,text2,text3,text4,text5]"
      ],
      "metadata": {
        "id": "y0zbA33WYl-4",
        "cellView": "form"
      },
      "execution_count": 123,
      "outputs": []
    },
    {
      "cell_type": "code",
      "source": [
        "# @title\n",
        "# #\n",
        "# clean_texts=[]\n",
        "\n",
        "# for news in texts:\n",
        "#   news = preprocess_text(news)\n",
        "#   clean_texts.append(news)"
      ],
      "metadata": {
        "id": "T6vdjBteZ2jP",
        "cellView": "form"
      },
      "execution_count": 124,
      "outputs": []
    },
    {
      "cell_type": "code",
      "source": [
        "# @title\n",
        "# # токенизируем текст с помощью ранее обученного токенизатора\n",
        "# tonal_tokenized = tokenizer_tonal.texts_to_sequences(clean_texts)\n",
        "# emotions_tokenized = tokenizer_emotions.texts_to_sequences(clean_texts)\n",
        "\n",
        "# # изменяем длину до 100 слов\n",
        "# tonal_texts = pad_sequences(tonal_tokenized, padding='post', maxlen=100)\n",
        "# emotion_texts = pad_sequences(emotions_tokenized, padding='post', maxlen=30)\n"
      ],
      "metadata": {
        "id": "veUz5RuKalLi",
        "cellView": "form"
      },
      "execution_count": 125,
      "outputs": []
    },
    {
      "cell_type": "code",
      "source": [
        "# @title\n",
        "# Пропускаем через модель\n",
        "# tonal_predict = tonal_model.predict(tonal_texts)\n",
        "\n",
        "# tonal_predict"
      ],
      "metadata": {
        "id": "y61UWEiJbHmo",
        "cellView": "form"
      },
      "execution_count": 126,
      "outputs": []
    },
    {
      "cell_type": "code",
      "source": [
        "# @title\n",
        "# ищем наиболее подходящий под комментарии текст\n",
        "# mean_score=float(tonal_predict.mean())\n",
        "# min_metr=10\n",
        "# min_index=10\n",
        "# for i in range(len(tonal_predict)):\n",
        "#   if abs(mean_score-float(tonal_predict[i]))<min_metr:\n",
        "#     min_metr=abs(mean_score-float(tonal_predict[i]))\n",
        "#     min_index=i\n",
        "\n",
        "\n",
        "\n",
        "\n",
        "\n"
      ],
      "metadata": {
        "id": "45-1yPAcjVMB",
        "cellView": "form"
      },
      "execution_count": 127,
      "outputs": []
    },
    {
      "cell_type": "code",
      "source": [
        "# @title\n",
        "# Пропускаем через модель\n",
        "# emotion_predict = emotion_model.predict(emotion_texts)\n",
        "\n",
        "# emotion_predict"
      ],
      "metadata": {
        "id": "P8ovKsrhb7uW",
        "cellView": "form"
      },
      "execution_count": 128,
      "outputs": []
    },
    {
      "cell_type": "code",
      "source": [
        "# @title\n",
        "# emotion=emotion_predict[min_index].argmax()\n",
        "# emotion=random.choice(emotions_dict[f'{emotion}'])"
      ],
      "metadata": {
        "id": "PBPnZRIacD_-",
        "cellView": "form"
      },
      "execution_count": 129,
      "outputs": []
    },
    {
      "cell_type": "markdown",
      "source": [
        "Пишем готовую функцию"
      ],
      "metadata": {
        "id": "AgIOScFgt3Zn"
      }
    },
    {
      "cell_type": "code",
      "source": [
        "def get_result(index):\n",
        "  text1=df['text1'][index]\n",
        "  text2=df['text2'][index]\n",
        "  text3=df['text3'][index]\n",
        "  text4=df['text4'][index]\n",
        "  text5=df['text5'][index]\n",
        "\n",
        "  texts=[text1,text2,text3,text4,text5]\n",
        "\n",
        "  # очищаем текст\n",
        "  clean_texts=[]\n",
        "\n",
        "  for news in texts:\n",
        "    news = preprocess_text(news)\n",
        "    clean_texts.append(news)\n",
        "\n",
        "  # токенизируем текст с помощью ранее обученного токенизатора\n",
        "  tonal_tokenized = tokenizer_tonal.texts_to_sequences(clean_texts)\n",
        "  emotions_tokenized = tokenizer_emotions.texts_to_sequences(clean_texts)\n",
        "\n",
        "  # изменяем длину до 100 слов\n",
        "  tonal_texts = pad_sequences(tonal_tokenized, padding='post', maxlen=100)\n",
        "  emotion_texts = pad_sequences(emotions_tokenized, padding='post', maxlen=30)\n",
        "\n",
        "  # Пропускаем через модель\n",
        "  tonal_predict = tonal_model.predict(tonal_texts)\n",
        "\n",
        "  # ищем наиболее подходящий под комментарии текст\n",
        "  mean_score=float(tonal_predict.mean())\n",
        "  min_metr=10\n",
        "  min_index=10\n",
        "  for i in range(len(tonal_predict)):\n",
        "    if abs(mean_score-float(tonal_predict[i]))<min_metr:\n",
        "      min_metr=abs(mean_score-float(tonal_predict[i]))\n",
        "      min_index=i\n",
        "\n",
        "  # Пропускаем через модель\n",
        "  emotion_predict = emotion_model.predict(emotion_texts)\n",
        "\n",
        "  emotion=emotion_predict[min_index].argmax()\n",
        "  emotion=random.choice(emotions_dict[f'{emotion}'])\n",
        "\n",
        "  return emotion + df['ticker'][index]+ ' ' + texts[min_index]"
      ],
      "metadata": {
        "id": "MBDyfltXrgC1"
      },
      "execution_count": 130,
      "outputs": []
    },
    {
      "cell_type": "code",
      "source": [
        "res=[]\n",
        "for i in range(15):\n",
        "  res.append(get_result(i))"
      ],
      "metadata": {
        "colab": {
          "base_uri": "https://localhost:8080/"
        },
        "id": "eonyzn0ysi0w",
        "outputId": "d71c63ee-5d23-4fb0-bbfe-5bb89cf29aa7"
      },
      "execution_count": 131,
      "outputs": [
        {
          "output_type": "stream",
          "name": "stdout",
          "text": [
            "1/1 [==============================] - 0s 438ms/step\n"
          ]
        },
        {
          "output_type": "stream",
          "name": "stderr",
          "text": [
            "<ipython-input-130-b4192de42032>:33: DeprecationWarning: Conversion of an array with ndim > 0 to a scalar is deprecated, and will error in future. Ensure you extract a single element from your array before performing this operation. (Deprecated NumPy 1.25.)\n",
            "  if abs(mean_score-float(tonal_predict[i]))<min_metr:\n",
            "<ipython-input-130-b4192de42032>:34: DeprecationWarning: Conversion of an array with ndim > 0 to a scalar is deprecated, and will error in future. Ensure you extract a single element from your array before performing this operation. (Deprecated NumPy 1.25.)\n",
            "  min_metr=abs(mean_score-float(tonal_predict[i]))\n"
          ]
        },
        {
          "output_type": "stream",
          "name": "stdout",
          "text": [
            "1/1 [==============================] - 1s 601ms/step\n",
            "1/1 [==============================] - 0s 37ms/step\n",
            "1/1 [==============================] - 0s 31ms/step\n",
            "1/1 [==============================] - 0s 38ms/step\n",
            "1/1 [==============================] - 0s 40ms/step\n",
            "1/1 [==============================] - 0s 38ms/step\n",
            "1/1 [==============================] - 0s 30ms/step\n",
            "1/1 [==============================] - 0s 38ms/step\n",
            "1/1 [==============================] - 0s 33ms/step\n",
            "1/1 [==============================] - 0s 46ms/step\n",
            "1/1 [==============================] - 0s 33ms/step\n",
            "1/1 [==============================] - 0s 40ms/step\n",
            "1/1 [==============================] - 0s 34ms/step\n",
            "1/1 [==============================] - 0s 47ms/step\n",
            "1/1 [==============================] - 0s 32ms/step\n",
            "1/1 [==============================] - 0s 38ms/step\n",
            "1/1 [==============================] - 0s 30ms/step\n",
            "1/1 [==============================] - 0s 43ms/step\n",
            "1/1 [==============================] - 0s 36ms/step\n",
            "1/1 [==============================] - 0s 37ms/step\n",
            "1/1 [==============================] - 0s 34ms/step\n",
            "1/1 [==============================] - 0s 50ms/step\n",
            "1/1 [==============================] - 0s 47ms/step\n",
            "1/1 [==============================] - 0s 38ms/step\n",
            "1/1 [==============================] - 0s 43ms/step\n",
            "1/1 [==============================] - 0s 43ms/step\n",
            "1/1 [==============================] - 0s 35ms/step\n",
            "1/1 [==============================] - 0s 43ms/step\n",
            "1/1 [==============================] - 0s 36ms/step\n"
          ]
        }
      ]
    },
    {
      "cell_type": "code",
      "source": [
        "for ans in res:\n",
        "  print(ans)\n",
        "  print('---------------------')\n"
      ],
      "metadata": {
        "colab": {
          "base_uri": "https://localhost:8080/"
        },
        "id": "l8F3i2kPs64e",
        "outputId": "44a500b2-2858-4687-8bd4-9538b115539c"
      },
      "execution_count": 132,
      "outputs": [
        {
          "output_type": "stream",
          "name": "stdout",
          "text": [
            "🤑$APPL Apple expands its services portfolio with the launch of Apple Fitness+, offering personalized workout routines and fitness tracking integration with Apple Watch.\n",
            "---------------------\n",
            "🔞$GMKN Norilsk Nickel faces renewed scrutiny over environmental practices following another major diesel spill in the Arctic, raising concerns about its sustainability efforts.\n",
            "---------------------\n",
            "🤬$TSLA Tesla's market share in China declines amid increasing competition from domestic electric vehicle manufacturers and regulatory challenges, posing threats to its growth prospects in the world's largest EV market.\n",
            "---------------------\n",
            "😬$YNDX Yandex's ride-hailing service Yandex.Taxi comes under fire for reports of driver exploitation and unsafe working conditions, leading to protests and calls for improved labor practices.\n",
            "---------------------\n",
            "📉$RZD RZD announces significant fare increases for passenger rail services, drawing backlash from commuters and advocacy groups over affordability and accessibility issues.\n",
            "---------------------\n",
            "🚨$BMW BMW announces plans to cut production output amid global semiconductor chip shortage, leading to supply chain disruptions and delivery delays for customers.\n",
            "---------------------\n",
            "❗$LKOH Lukoil's financial difficulties: investors' growing fear of the company's collapse!\n",
            "---------------------\n",
            "🚨$PUMG An open letter from activists: Puma gets into the center of anger for exploiting labor resources!\n",
            "---------------------\n",
            "🥺$SMSN Samsung has announced a large-scale smartphone recall: consumers are expressing disappointment and dissatisfaction!\n",
            "---------------------\n",
            "😠$TM Toyota announces plans to invest $13.5 billion in electric vehicle development by 2030, aiming to expand its EV lineup and increase production capacity.\n",
            "---------------------\n",
            "😘$AUCHAN Auchan launches a mobile app with personalized shopping recommendations and exclusive discounts for loyal customers.\n",
            "---------------------\n",
            "🍀$NESN Nestle launches a plant-based version of its popular KitKat chocolate bar in several markets, catering to the growing demand for vegan-friendly snacks.\n",
            "---------------------\n",
            "🤗$SHEL Shell's investments in clean energy projects lead to the creation of thousands of green jobs worldwide, contributing to economic growth and community development in regions where it operates.\n",
            "---------------------\n",
            "🤑$SIEM Siemens' commitment to diversity and inclusion is applauded as it surpasses its targets for gender and minority representation in leadership positions, setting a new standard for corporate inclusivity.\n",
            "---------------------\n",
            "❗$HUAWEI Huawei's investment in talent development and education initiatives is lauded for its contribution to fostering future generations of technology leaders and driving socioeconomic growth in communities around the world.\n",
            "---------------------\n"
          ]
        }
      ]
    }
  ]
}